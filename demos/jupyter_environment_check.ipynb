{
 "cells": [
  {
   "cell_type": "code",
   "execution_count": 1,
   "id": "initial_id",
   "metadata": {
    "ExecuteTime": {
     "end_time": "2023-12-10T16:15:02.901455468Z",
     "start_time": "2023-12-10T16:15:02.834291038Z"
    },
    "collapsed": true
   },
   "outputs": [
    {
     "name": "stdout",
     "output_type": "stream",
     "text": [
      "[OK] Your Python version is 3.11.8\n"
     ]
    }
   ],
   "source": [
    "from python_environment_check import check_packages"
   ]
  },
  {
   "cell_type": "code",
   "execution_count": 2,
   "id": "30d9d00dc47c9ae0",
   "metadata": {
    "ExecuteTime": {
     "end_time": "2023-12-10T16:15:07.819045017Z",
     "start_time": "2023-12-10T16:15:04.123856658Z"
    },
    "collapsed": false
   },
   "outputs": [
    {
     "name": "stdout",
     "output_type": "stream",
     "text": [
      "[OK] numpy 2.1.1\n",
      "[OK] scipy 1.14.1\n",
      "[OK] pandas 2.2.2\n",
      "[OK] matplotlib 3.9.2\n",
      "[OK] sklearn 1.5.1\n",
      "[OK] watermark 2.4.3\n",
      "[OK] torch 2.4.1+cu121\n",
      "[OK] torchvision 0.19.1+cu121\n",
      "[OK] torchmetrics 1.4.1\n",
      "[OK] tqdm 4.66.5\n",
      "[OK] wandb 0.17.9\n"
     ]
    }
   ],
   "source": [
    "d = {\n",
    "        'numpy': '1.24.3',\n",
    "        'scipy': '1.10.1',\n",
    "        'pandas': '2.0.2',\n",
    "        'matplotlib': '3.7.1',\n",
    "        'sklearn': '1.2.2',\n",
    "        'watermark': '2.4.2',\n",
    "        'torch': '2.0.1',\n",
    "        'torchvision': '0.15.2',\n",
    "        'torchmetrics': '0.11.4',\n",
    "        'tqdm' : '4.66.5',\n",
    "        'wandb' : '0.17.9'\n",
    "}\n",
    "check_packages(d)"
   ]
  },
  {
   "cell_type": "code",
   "execution_count": null,
   "id": "288b4d3c1d2c2635",
   "metadata": {
    "collapsed": false
   },
   "outputs": [],
   "source": []
  }
 ],
 "metadata": {
  "kernelspec": {
   "display_name": "Python 3",
   "language": "python",
   "name": "python3"
  },
  "language_info": {
   "codemirror_mode": {
    "name": "ipython",
    "version": 3
   },
   "file_extension": ".py",
   "mimetype": "text/x-python",
   "name": "python",
   "nbconvert_exporter": "python",
   "pygments_lexer": "ipython3",
   "version": "3.11.8"
  }
 },
 "nbformat": 4,
 "nbformat_minor": 5
}
