{
 "cells": [
  {
   "cell_type": "code",
   "execution_count": 1,
   "id": "initial_id",
   "metadata": {
    "collapsed": true,
    "ExecuteTime": {
     "end_time": "2023-12-10T16:15:02.901455468Z",
     "start_time": "2023-12-10T16:15:02.834291038Z"
    }
   },
   "outputs": [
    {
     "name": "stdout",
     "output_type": "stream",
     "text": [
      "[OK] Your Python version is 3.9.18\n"
     ]
    }
   ],
   "source": [
    "from python_environment_check import check_packages"
   ]
  },
  {
   "cell_type": "code",
   "execution_count": 2,
   "outputs": [
    {
     "name": "stdout",
     "output_type": "stream",
     "text": [
      "[OK] numpy 1.26.2\n",
      "[OK] scipy 1.11.4\n",
      "[OK] pandas 2.1.3\n",
      "[OK] matplotlib 3.8.2\n",
      "[OK] sklearn 1.3.2\n",
      "[OK] watermark 2.4.3\n",
      "[OK] torch 2.1.1+cu121\n",
      "[OK] torchvision 0.16.1+cu121\n",
      "[OK] torchmetrics 1.2.0\n",
      "[OK] transformers 4.35.2\n",
      "[OK] lightning 2.1.2\n"
     ]
    }
   ],
   "source": [
    "d = {\n",
    "    'numpy': '1.26.2',\n",
    "    'scipy': '1.11.3',\n",
    "    'pandas': '2.1.3',\n",
    "    'matplotlib': '3.8.1',\n",
    "    'sklearn': '1.3.2',\n",
    "    'watermark': '2.4.3',\n",
    "    'torch': '2.1.0+cu121',\n",
    "    'torchvision': '0.16.0+cu121',\n",
    "    'torchmetrics': '1.2.0',\n",
    "    'transformers': '4.35.1',\n",
    "    'lightning': '2.1.1',\n",
    "}\n",
    "check_packages(d)"
   ],
   "metadata": {
    "collapsed": false,
    "ExecuteTime": {
     "end_time": "2023-12-10T16:15:07.819045017Z",
     "start_time": "2023-12-10T16:15:04.123856658Z"
    }
   },
   "id": "30d9d00dc47c9ae0"
  },
  {
   "cell_type": "code",
   "execution_count": null,
   "outputs": [],
   "source": [],
   "metadata": {
    "collapsed": false
   },
   "id": "288b4d3c1d2c2635"
  }
 ],
 "metadata": {
  "kernelspec": {
   "display_name": "Python 3",
   "language": "python",
   "name": "python3"
  },
  "language_info": {
   "codemirror_mode": {
    "name": "ipython",
    "version": 2
   },
   "file_extension": ".py",
   "mimetype": "text/x-python",
   "name": "python",
   "nbconvert_exporter": "python",
   "pygments_lexer": "ipython2",
   "version": "2.7.6"
  }
 },
 "nbformat": 4,
 "nbformat_minor": 5
}
