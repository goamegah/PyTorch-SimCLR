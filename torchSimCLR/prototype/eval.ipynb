{
 "cells": [
  {
   "cell_type": "code",
   "execution_count": 121,
   "id": "initial_id",
   "metadata": {
    "collapsed": true,
    "ExecuteTime": {
     "end_time": "2023-11-26T16:10:04.066561336Z",
     "start_time": "2023-11-26T16:10:04.062601418Z"
    }
   },
   "outputs": [],
   "source": [
    "import torch\n",
    "import sys\n",
    "import numpy as np\n",
    "import os\n",
    "import yaml\n",
    "import matplotlib.pyplot as plt\n",
    "import torchvision\n",
    "\n",
    "sys.path.insert(0, \"../../../\")\n"
   ]
  },
  {
   "cell_type": "markdown",
   "source": [
    "# Evaluation mode"
   ],
   "metadata": {
    "collapsed": false
   },
   "id": "63a7824e511ea29f"
  },
  {
   "cell_type": "code",
   "execution_count": 122,
   "outputs": [],
   "source": [
    "# package for download file from google drive\n",
    "# ! pip uninstall gdown"
   ],
   "metadata": {
    "collapsed": false,
    "ExecuteTime": {
     "end_time": "2023-11-26T16:10:04.365055352Z",
     "start_time": "2023-11-26T16:10:04.355869617Z"
    }
   },
   "id": "7dc2a98e9f0e2533"
  },
  {
   "cell_type": "code",
   "execution_count": 123,
   "outputs": [],
   "source": [
    "# https://drive.google.com/file/d/1yEolUJYvk93S54c1b8zfE22ugVRy06GF/view?usp=drive_link\n",
    "# \"https://drive.google.com/uc?id=0B9P1L--7Wd2vVlpzRkwzYUladms\""
   ],
   "metadata": {
    "collapsed": false,
    "ExecuteTime": {
     "end_time": "2023-11-26T16:10:04.563844496Z",
     "start_time": "2023-11-26T16:10:04.562886078Z"
    }
   },
   "id": "17880696b49c7467"
  },
  {
   "cell_type": "code",
   "execution_count": 124,
   "outputs": [],
   "source": [
    "folder_name = 'resnet_artefacts'\n",
    "resnet_artefact_files = {'resnet18_pretrain_simclr':'1yEolUJYvk93S54c1b8zfE22ugVRy06GF',\n",
    "                         'resnet18_finetune':'1N8CdPJSOBqlb2hzceztXyhrQrxXahg2M'}"
   ],
   "metadata": {
    "collapsed": false,
    "ExecuteTime": {
     "end_time": "2023-11-26T16:10:04.767525211Z",
     "start_time": "2023-11-26T16:10:04.766664088Z"
    }
   },
   "id": "14e0868a4438c30d"
  },
  {
   "cell_type": "code",
   "execution_count": 125,
   "outputs": [
    {
     "name": "stderr",
     "output_type": "stream",
     "text": [
      "Downloading...\n",
      "From (uriginal): https://drive.google.com/uc?id=1yEolUJYvk93S54c1b8zfE22ugVRy06GF\n",
      "From (redirected): https://drive.google.com/uc?id=1yEolUJYvk93S54c1b8zfE22ugVRy06GF&confirm=t&uuid=94e2055f-6676-4e9a-b04a-666c30168d01\n",
      "To: /home/kgamegah/Documents/academic/UPC/DeepLearning/s3ima/s3ima/arch/SimCLR/prototype/resnet_pretrained.tar\n",
      "100%|██████████| 138M/138M [00:03<00:00, 41.6MB/s] \n"
     ]
    },
    {
     "name": "stdout",
     "output_type": "stream",
     "text": [
      "data  eval.ipynb  eval_runs  resnet_pretrained.tar\r\n"
     ]
    }
   ],
   "source": [
    "\n",
    "# download and extract model files\n",
    "# os.system('gdown https://drive.google.com/uc?id={}'.format(resnet_artefact_files['resnet18_finetune']))\n",
    "# os.system('unzip {}'.format(folder_name))\n",
    "# !ls\n",
    "\n",
    "import gdown\n",
    "\n",
    "drive_url = 'https://drive.google.com/file/d/1yEolUJYvk93S54c1b8zfE22ugVRy06GF/view?usp=drive_link'\n",
    "url = 'https://drive.google.com/uc?id=1yEolUJYvk93S54c1b8zfE22ugVRy06GF'\n",
    "output = 'resnet_pretrained.tar'\n",
    "gdown.download(url, output, quiet=False)\n",
    "# gdown.cached_download(url, output, postprocess=gdown.extractall)\n",
    "! ls"
   ],
   "metadata": {
    "collapsed": false,
    "ExecuteTime": {
     "end_time": "2023-11-26T16:10:09.874893604Z",
     "start_time": "2023-11-26T16:10:04.994748483Z"
    }
   },
   "id": "ebbb1972317b68d1"
  },
  {
   "cell_type": "code",
   "execution_count": 126,
   "outputs": [],
   "source": [
    "from s3ima.arch.ResNet18.model import ResNet18, BasicBlock\n",
    "from torch.utils.data import DataLoader, Subset\n",
    "import torchvision.transforms as transforms\n",
    "from torchvision import datasets\n",
    "import torch\n",
    "from collections import Counter\n",
    "from sklearn.model_selection import train_test_split"
   ],
   "metadata": {
    "collapsed": false,
    "ExecuteTime": {
     "end_time": "2023-11-26T16:10:09.892726487Z",
     "start_time": "2023-11-26T16:10:09.882548083Z"
    }
   },
   "id": "e084459ea1824aaa"
  },
  {
   "cell_type": "code",
   "execution_count": 127,
   "outputs": [
    {
     "name": "stdout",
     "output_type": "stream",
     "text": [
      "60000\n",
      "[5 0 4 ... 5 6 8]\n"
     ]
    },
    {
     "data": {
      "text/plain": "Counter({1: 6742,\n         7: 6265,\n         3: 6131,\n         2: 5958,\n         9: 5949,\n         0: 5923,\n         6: 5918,\n         8: 5851,\n         4: 5842,\n         5: 5421})"
     },
     "execution_count": 127,
     "metadata": {},
     "output_type": "execute_result"
    }
   ],
   "source": [
    "mnist_train_dataset = datasets.MNIST(\n",
    "    root='./data',\n",
    "    train=True,\n",
    "    download=True,\n",
    "    transform=transforms.ToTensor()\n",
    ")\n",
    "\n",
    "mnist_test_dataset = datasets.MNIST(\n",
    "    root='./data',\n",
    "    train=False,\n",
    "    download=False,\n",
    "    transform=transforms.ToTensor()\n",
    ")\n",
    "\n",
    "print(len(mnist_train_dataset))\n",
    "print(mnist_train_dataset.targets.numpy())\n",
    "# sample100 = Subset(dataset=mnist_train_dataset,indices=)\n",
    "Counter(mnist_train_dataset.targets.numpy())"
   ],
   "metadata": {
    "collapsed": false,
    "ExecuteTime": {
     "end_time": "2023-11-26T16:10:09.982847463Z",
     "start_time": "2023-11-26T16:10:09.889043245Z"
    }
   },
   "id": "c44749c5261ea484"
  },
  {
   "cell_type": "code",
   "execution_count": 128,
   "outputs": [],
   "source": [
    "# sample 100 data with same classes proportion \n",
    "train_idx, validation_idx = train_test_split(np.arange(len(mnist_train_dataset)),\n",
    "                                             train_size=100,\n",
    "                                             random_state=1,\n",
    "                                             shuffle=True,\n",
    "                                             stratify=mnist_train_dataset.targets.numpy())\n",
    "# Subset dataset for train and val\n",
    "train_dataset = Subset(mnist_train_dataset, train_idx)\n",
    "\n",
    "\n",
    "train_loader = DataLoader(train_dataset, \n",
    "                          batch_size=10,\n",
    "                          num_workers=8, \n",
    "                          drop_last=False, \n",
    "                          shuffle=True)\n",
    "\n",
    "test_loader = DataLoader(mnist_test_dataset, \n",
    "                         batch_size=256,\n",
    "                         num_workers=8, \n",
    "                         drop_last=False, \n",
    "                         shuffle=True)\n",
    "\n",
    "# Counter(train_dataset.targets.numpy())\n",
    "# train_loader.batch_size"
   ],
   "metadata": {
    "collapsed": false,
    "ExecuteTime": {
     "end_time": "2023-11-26T16:10:10.585324927Z",
     "start_time": "2023-11-26T16:10:10.553704950Z"
    }
   },
   "id": "93f6d32e1d17febe"
  },
  {
   "cell_type": "code",
   "execution_count": 129,
   "outputs": [
    {
     "name": "stdout",
     "output_type": "stream",
     "text": [
      "Using device: cpu\n"
     ]
    }
   ],
   "source": [
    "device = 'cuda' if torch.cuda.is_available() else 'cpu'\n",
    "print(\"Using device:\", device)"
   ],
   "metadata": {
    "collapsed": false,
    "ExecuteTime": {
     "end_time": "2023-11-26T16:10:10.887052809Z",
     "start_time": "2023-11-26T16:10:10.878301216Z"
    }
   },
   "id": "fd7d1b574820864d"
  },
  {
   "cell_type": "code",
   "execution_count": 130,
   "outputs": [],
   "source": [
    "checkpoint = torch.load('resnet_pretrained.tar', map_location=device)\n",
    "state_dict = checkpoint['state_dict']\n",
    "\n",
    "for k in list(state_dict.keys()):\n",
    "\n",
    "    if k.startswith('backbone.'):\n",
    "        if k.startswith('backbone') and not k.startswith('backbone.fc'):\n",
    "            # remove prefix\n",
    "            state_dict[k[len(\"backbone.\"):]] = state_dict[k]\n",
    "    del state_dict[k]"
   ],
   "metadata": {
    "collapsed": false,
    "ExecuteTime": {
     "end_time": "2023-11-26T16:10:11.209948013Z",
     "start_time": "2023-11-26T16:10:11.146871353Z"
    }
   },
   "id": "858c1a0206905648"
  },
  {
   "cell_type": "code",
   "execution_count": 131,
   "outputs": [],
   "source": [
    "model = ResNet18(num_layers=18,\n",
    "                  block=BasicBlock,\n",
    "                  num_classes=10,\n",
    "                  grayscale=True)\n",
    "model.to(device=device)\n",
    "\n",
    "\n",
    "log = model.load_state_dict(state_dict, strict=False)\n",
    "assert log.missing_keys == ['fc.weight', 'fc.bias']\n"
   ],
   "metadata": {
    "collapsed": false,
    "ExecuteTime": {
     "end_time": "2023-11-26T16:10:11.444745197Z",
     "start_time": "2023-11-26T16:10:11.410364413Z"
    }
   },
   "id": "b87b2f486174ba4e"
  },
  {
   "cell_type": "code",
   "execution_count": 132,
   "outputs": [],
   "source": [
    "optimizer = torch.optim.Adam(model.parameters(), lr=3e-4, weight_decay=0.0008)\n",
    "criterion = torch.nn.CrossEntropyLoss().to(device)"
   ],
   "metadata": {
    "collapsed": false,
    "ExecuteTime": {
     "end_time": "2023-11-26T16:10:11.655192067Z",
     "start_time": "2023-11-26T16:10:11.654489865Z"
    }
   },
   "id": "7a88b5423877460c"
  },
  {
   "cell_type": "code",
   "execution_count": 133,
   "outputs": [],
   "source": [
    "def accuracy(output, target, topk=(1,)):\n",
    "    \"\"\"Computes the accuracy over the k top predictions for the specified values of k\"\"\"\n",
    "    with torch.no_grad():\n",
    "        maxk = max(topk)\n",
    "        batch_size = target.size(0)\n",
    "\n",
    "        _, pred = output.topk(maxk, 1, True, True)\n",
    "        pred = pred.t()\n",
    "        correct = pred.eq(target.view(1, -1).expand_as(pred))\n",
    "\n",
    "        res = []\n",
    "        for k in topk:\n",
    "            correct_k = correct[:k].reshape(-1).float().sum(0, keepdim=True)\n",
    "            res.append(correct_k.mul_(100.0 / batch_size))\n",
    "        return res"
   ],
   "metadata": {
    "collapsed": false,
    "ExecuteTime": {
     "end_time": "2023-11-26T16:10:11.867113587Z",
     "start_time": "2023-11-26T16:10:11.866639726Z"
    }
   },
   "id": "4745617918207f59"
  },
  {
   "cell_type": "code",
   "execution_count": 134,
   "outputs": [
    {
     "name": "stdout",
     "output_type": "stream",
     "text": [
      "Epoch 0\tTop1 Train accuracy 44.0\tTop1 Test accuracy: 71.865234375\tTop5 test accuracy: 95.986328125\n",
      "Epoch 1\tTop1 Train accuracy 88.0\tTop1 Test accuracy: 86.484375\tTop5 test accuracy: 98.779296875\n",
      "Epoch 2\tTop1 Train accuracy 95.0\tTop1 Test accuracy: 89.365234375\tTop5 test accuracy: 99.3359375\n",
      "Epoch 3\tTop1 Train accuracy 98.0\tTop1 Test accuracy: 91.23046875\tTop5 test accuracy: 99.4140625\n",
      "Epoch 4\tTop1 Train accuracy 99.0\tTop1 Test accuracy: 91.650390625\tTop5 test accuracy: 99.501953125\n",
      "Epoch 5\tTop1 Train accuracy 100.0\tTop1 Test accuracy: 91.787109375\tTop5 test accuracy: 99.501953125\n",
      "Epoch 6\tTop1 Train accuracy 99.0\tTop1 Test accuracy: 91.9140625\tTop5 test accuracy: 99.55078125\n",
      "Epoch 7\tTop1 Train accuracy 100.0\tTop1 Test accuracy: 92.4609375\tTop5 test accuracy: 99.51171875\n",
      "Epoch 8\tTop1 Train accuracy 100.0\tTop1 Test accuracy: 92.451171875\tTop5 test accuracy: 99.51171875\n",
      "Epoch 9\tTop1 Train accuracy 100.0\tTop1 Test accuracy: 93.02734375\tTop5 test accuracy: 99.53125\n",
      "Epoch 10\tTop1 Train accuracy 100.0\tTop1 Test accuracy: 92.51953125\tTop5 test accuracy: 99.5703125\n",
      "Epoch 11\tTop1 Train accuracy 98.0\tTop1 Test accuracy: 92.626953125\tTop5 test accuracy: 99.58984375\n",
      "Epoch 12\tTop1 Train accuracy 100.0\tTop1 Test accuracy: 90.693359375\tTop5 test accuracy: 99.619140625\n",
      "Epoch 13\tTop1 Train accuracy 100.0\tTop1 Test accuracy: 91.181640625\tTop5 test accuracy: 99.58984375\n",
      "Epoch 14\tTop1 Train accuracy 100.0\tTop1 Test accuracy: 91.650390625\tTop5 test accuracy: 99.55078125\n",
      "Epoch 15\tTop1 Train accuracy 100.0\tTop1 Test accuracy: 92.119140625\tTop5 test accuracy: 99.580078125\n",
      "Epoch 16\tTop1 Train accuracy 100.0\tTop1 Test accuracy: 92.373046875\tTop5 test accuracy: 99.5703125\n",
      "Epoch 17\tTop1 Train accuracy 99.0\tTop1 Test accuracy: 91.2890625\tTop5 test accuracy: 99.2578125\n",
      "Epoch 18\tTop1 Train accuracy 100.0\tTop1 Test accuracy: 90.400390625\tTop5 test accuracy: 99.384765625\n",
      "Epoch 19\tTop1 Train accuracy 99.0\tTop1 Test accuracy: 92.119140625\tTop5 test accuracy: 99.1796875\n",
      "Epoch 20\tTop1 Train accuracy 100.0\tTop1 Test accuracy: 90.009765625\tTop5 test accuracy: 99.296875\n",
      "Epoch 21\tTop1 Train accuracy 100.0\tTop1 Test accuracy: 91.58203125\tTop5 test accuracy: 99.375\n",
      "Epoch 22\tTop1 Train accuracy 100.0\tTop1 Test accuracy: 91.953125\tTop5 test accuracy: 99.501953125\n",
      "Epoch 23\tTop1 Train accuracy 100.0\tTop1 Test accuracy: 92.265625\tTop5 test accuracy: 99.5703125\n",
      "Epoch 24\tTop1 Train accuracy 99.0\tTop1 Test accuracy: 92.6953125\tTop5 test accuracy: 99.521484375\n",
      "Epoch 25\tTop1 Train accuracy 98.0\tTop1 Test accuracy: 91.26953125\tTop5 test accuracy: 99.23828125\n",
      "Epoch 26\tTop1 Train accuracy 97.0\tTop1 Test accuracy: 90.0\tTop5 test accuracy: 99.189453125\n",
      "Epoch 27\tTop1 Train accuracy 99.0\tTop1 Test accuracy: 90.859375\tTop5 test accuracy: 99.140625\n",
      "Epoch 28\tTop1 Train accuracy 99.0\tTop1 Test accuracy: 91.07421875\tTop5 test accuracy: 99.443359375\n",
      "Epoch 29\tTop1 Train accuracy 96.0\tTop1 Test accuracy: 92.36328125\tTop5 test accuracy: 99.39453125\n",
      "Epoch 30\tTop1 Train accuracy 97.0\tTop1 Test accuracy: 89.130859375\tTop5 test accuracy: 99.39453125\n",
      "Epoch 31\tTop1 Train accuracy 93.0\tTop1 Test accuracy: 88.427734375\tTop5 test accuracy: 98.935546875\n",
      "Epoch 32\tTop1 Train accuracy 98.0\tTop1 Test accuracy: 89.892578125\tTop5 test accuracy: 98.984375\n",
      "Epoch 33\tTop1 Train accuracy 98.0\tTop1 Test accuracy: 88.5546875\tTop5 test accuracy: 99.130859375\n",
      "Epoch 34\tTop1 Train accuracy 99.0\tTop1 Test accuracy: 90.537109375\tTop5 test accuracy: 99.384765625\n",
      "Epoch 35\tTop1 Train accuracy 98.0\tTop1 Test accuracy: 92.197265625\tTop5 test accuracy: 99.5703125\n",
      "Epoch 36\tTop1 Train accuracy 99.0\tTop1 Test accuracy: 91.728515625\tTop5 test accuracy: 99.47265625\n",
      "Epoch 37\tTop1 Train accuracy 100.0\tTop1 Test accuracy: 90.927734375\tTop5 test accuracy: 99.1796875\n",
      "Epoch 38\tTop1 Train accuracy 100.0\tTop1 Test accuracy: 92.470703125\tTop5 test accuracy: 99.423828125\n",
      "Epoch 39\tTop1 Train accuracy 100.0\tTop1 Test accuracy: 92.59765625\tTop5 test accuracy: 99.51171875\n",
      "Epoch 40\tTop1 Train accuracy 98.0\tTop1 Test accuracy: 92.6953125\tTop5 test accuracy: 99.482421875\n",
      "Epoch 41\tTop1 Train accuracy 100.0\tTop1 Test accuracy: 92.578125\tTop5 test accuracy: 99.501953125\n",
      "Epoch 42\tTop1 Train accuracy 99.0\tTop1 Test accuracy: 93.28125\tTop5 test accuracy: 99.521484375\n",
      "Epoch 43\tTop1 Train accuracy 100.0\tTop1 Test accuracy: 93.26171875\tTop5 test accuracy: 99.5703125\n",
      "Epoch 44\tTop1 Train accuracy 100.0\tTop1 Test accuracy: 92.87109375\tTop5 test accuracy: 99.51171875\n",
      "Epoch 45\tTop1 Train accuracy 100.0\tTop1 Test accuracy: 92.75390625\tTop5 test accuracy: 99.47265625\n",
      "Epoch 46\tTop1 Train accuracy 99.0\tTop1 Test accuracy: 92.96875\tTop5 test accuracy: 99.384765625\n",
      "Epoch 47\tTop1 Train accuracy 98.0\tTop1 Test accuracy: 91.8359375\tTop5 test accuracy: 99.150390625\n",
      "Epoch 48\tTop1 Train accuracy 98.0\tTop1 Test accuracy: 89.4921875\tTop5 test accuracy: 99.150390625\n",
      "Epoch 49\tTop1 Train accuracy 97.0\tTop1 Test accuracy: 90.72265625\tTop5 test accuracy: 99.35546875\n",
      "Epoch 50\tTop1 Train accuracy 100.0\tTop1 Test accuracy: 90.771484375\tTop5 test accuracy: 98.955078125\n",
      "Epoch 51\tTop1 Train accuracy 99.0\tTop1 Test accuracy: 90.5078125\tTop5 test accuracy: 98.90625\n",
      "Epoch 52\tTop1 Train accuracy 100.0\tTop1 Test accuracy: 90.72265625\tTop5 test accuracy: 99.0234375\n",
      "Epoch 53\tTop1 Train accuracy 100.0\tTop1 Test accuracy: 90.99609375\tTop5 test accuracy: 99.130859375\n",
      "Epoch 54\tTop1 Train accuracy 100.0\tTop1 Test accuracy: 91.5234375\tTop5 test accuracy: 99.31640625\n",
      "Epoch 55\tTop1 Train accuracy 99.0\tTop1 Test accuracy: 91.2890625\tTop5 test accuracy: 99.16015625\n",
      "Epoch 56\tTop1 Train accuracy 100.0\tTop1 Test accuracy: 90.126953125\tTop5 test accuracy: 99.0625\n",
      "Epoch 57\tTop1 Train accuracy 100.0\tTop1 Test accuracy: 91.220703125\tTop5 test accuracy: 98.90625\n",
      "Epoch 58\tTop1 Train accuracy 100.0\tTop1 Test accuracy: 91.572265625\tTop5 test accuracy: 99.1015625\n",
      "Epoch 59\tTop1 Train accuracy 100.0\tTop1 Test accuracy: 92.05078125\tTop5 test accuracy: 98.984375\n",
      "Epoch 60\tTop1 Train accuracy 100.0\tTop1 Test accuracy: 92.5\tTop5 test accuracy: 99.267578125\n",
      "Epoch 61\tTop1 Train accuracy 100.0\tTop1 Test accuracy: 92.5\tTop5 test accuracy: 99.375\n",
      "Epoch 62\tTop1 Train accuracy 100.0\tTop1 Test accuracy: 92.7734375\tTop5 test accuracy: 99.375\n",
      "Epoch 63\tTop1 Train accuracy 100.0\tTop1 Test accuracy: 92.880859375\tTop5 test accuracy: 99.27734375\n",
      "Epoch 64\tTop1 Train accuracy 100.0\tTop1 Test accuracy: 93.056640625\tTop5 test accuracy: 99.287109375\n",
      "Epoch 65\tTop1 Train accuracy 100.0\tTop1 Test accuracy: 92.978515625\tTop5 test accuracy: 99.462890625\n",
      "Epoch 66\tTop1 Train accuracy 100.0\tTop1 Test accuracy: 93.06640625\tTop5 test accuracy: 99.47265625\n",
      "Epoch 67\tTop1 Train accuracy 100.0\tTop1 Test accuracy: 93.1640625\tTop5 test accuracy: 99.296875\n",
      "Epoch 68\tTop1 Train accuracy 100.0\tTop1 Test accuracy: 93.095703125\tTop5 test accuracy: 99.423828125\n",
      "Epoch 69\tTop1 Train accuracy 100.0\tTop1 Test accuracy: 92.94921875\tTop5 test accuracy: 99.462890625\n",
      "Epoch 70\tTop1 Train accuracy 100.0\tTop1 Test accuracy: 93.037109375\tTop5 test accuracy: 99.51171875\n",
      "Epoch 71\tTop1 Train accuracy 100.0\tTop1 Test accuracy: 93.310546875\tTop5 test accuracy: 99.51171875\n",
      "Epoch 72\tTop1 Train accuracy 100.0\tTop1 Test accuracy: 93.076171875\tTop5 test accuracy: 99.375\n",
      "Epoch 73\tTop1 Train accuracy 100.0\tTop1 Test accuracy: 92.83203125\tTop5 test accuracy: 99.365234375\n",
      "Epoch 74\tTop1 Train accuracy 100.0\tTop1 Test accuracy: 93.330078125\tTop5 test accuracy: 99.51171875\n",
      "Epoch 75\tTop1 Train accuracy 100.0\tTop1 Test accuracy: 93.330078125\tTop5 test accuracy: 99.501953125\n",
      "Epoch 76\tTop1 Train accuracy 100.0\tTop1 Test accuracy: 93.61328125\tTop5 test accuracy: 99.521484375\n",
      "Epoch 77\tTop1 Train accuracy 100.0\tTop1 Test accuracy: 93.427734375\tTop5 test accuracy: 99.501953125\n",
      "Epoch 78\tTop1 Train accuracy 100.0\tTop1 Test accuracy: 93.583984375\tTop5 test accuracy: 99.47265625\n",
      "Epoch 79\tTop1 Train accuracy 100.0\tTop1 Test accuracy: 92.353515625\tTop5 test accuracy: 99.4921875\n",
      "Epoch 80\tTop1 Train accuracy 100.0\tTop1 Test accuracy: 90.673828125\tTop5 test accuracy: 99.443359375\n",
      "Epoch 81\tTop1 Train accuracy 100.0\tTop1 Test accuracy: 91.0546875\tTop5 test accuracy: 99.443359375\n",
      "Epoch 82\tTop1 Train accuracy 100.0\tTop1 Test accuracy: 92.587890625\tTop5 test accuracy: 99.453125\n",
      "Epoch 83\tTop1 Train accuracy 100.0\tTop1 Test accuracy: 92.646484375\tTop5 test accuracy: 99.501953125\n",
      "Epoch 84\tTop1 Train accuracy 100.0\tTop1 Test accuracy: 92.51953125\tTop5 test accuracy: 99.47265625\n",
      "Epoch 85\tTop1 Train accuracy 100.0\tTop1 Test accuracy: 92.578125\tTop5 test accuracy: 99.51171875\n",
      "Epoch 86\tTop1 Train accuracy 100.0\tTop1 Test accuracy: 92.158203125\tTop5 test accuracy: 99.3359375\n",
      "Epoch 87\tTop1 Train accuracy 98.0\tTop1 Test accuracy: 91.328125\tTop5 test accuracy: 99.47265625\n",
      "Epoch 88\tTop1 Train accuracy 100.0\tTop1 Test accuracy: 91.552734375\tTop5 test accuracy: 99.501953125\n",
      "Epoch 89\tTop1 Train accuracy 94.0\tTop1 Test accuracy: 89.462890625\tTop5 test accuracy: 99.16015625\n",
      "Epoch 90\tTop1 Train accuracy 99.0\tTop1 Test accuracy: 91.2109375\tTop5 test accuracy: 99.267578125\n",
      "Epoch 91\tTop1 Train accuracy 98.0\tTop1 Test accuracy: 91.005859375\tTop5 test accuracy: 98.740234375\n",
      "Epoch 92\tTop1 Train accuracy 100.0\tTop1 Test accuracy: 91.416015625\tTop5 test accuracy: 98.80859375\n",
      "Epoch 93\tTop1 Train accuracy 100.0\tTop1 Test accuracy: 91.15234375\tTop5 test accuracy: 98.75\n",
      "Epoch 94\tTop1 Train accuracy 100.0\tTop1 Test accuracy: 91.15234375\tTop5 test accuracy: 98.623046875\n",
      "Epoch 95\tTop1 Train accuracy 100.0\tTop1 Test accuracy: 91.54296875\tTop5 test accuracy: 99.013671875\n",
      "Epoch 96\tTop1 Train accuracy 98.0\tTop1 Test accuracy: 91.083984375\tTop5 test accuracy: 99.091796875\n",
      "Epoch 97\tTop1 Train accuracy 99.0\tTop1 Test accuracy: 91.044921875\tTop5 test accuracy: 99.111328125\n",
      "Epoch 98\tTop1 Train accuracy 98.0\tTop1 Test accuracy: 91.77734375\tTop5 test accuracy: 99.228515625\n",
      "Epoch 99\tTop1 Train accuracy 100.0\tTop1 Test accuracy: 92.177734375\tTop5 test accuracy: 99.375\n"
     ]
    }
   ],
   "source": [
    "epochs = 100\n",
    "for epoch in range(epochs):\n",
    "    top1_train_accuracy = 0\n",
    "    for counter, (x_batch, y_batch) in enumerate(train_loader):\n",
    "        x_batch = x_batch.to(device)\n",
    "        y_batch = y_batch.to(device)\n",
    "\n",
    "        logits = model(x_batch)\n",
    "        loss = criterion(logits, y_batch)\n",
    "        top1 = accuracy(logits, y_batch, topk=(1,))\n",
    "        top1_train_accuracy += top1[0]\n",
    "\n",
    "        optimizer.zero_grad()\n",
    "        loss.backward()\n",
    "        optimizer.step()\n",
    "\n",
    "    top1_train_accuracy /= (counter + 1)\n",
    "    top1_accuracy = 0\n",
    "    top5_accuracy = 0\n",
    "    for counter, (x_batch, y_batch) in enumerate(test_loader):\n",
    "        x_batch = x_batch.to(device)\n",
    "        y_batch = y_batch.to(device)\n",
    "\n",
    "        logits = model(x_batch)\n",
    "\n",
    "        top1, top5 = accuracy(logits, y_batch, topk=(1,5))\n",
    "        top1_accuracy += top1[0]\n",
    "        top5_accuracy += top5[0]\n",
    "\n",
    "    top1_accuracy /= (counter + 1)\n",
    "    top5_accuracy /= (counter + 1)\n",
    "    print(f\"Epoch {epoch}\\t\"\n",
    "          f\"Top1 Train accuracy {top1_train_accuracy.item()}\\t\"\n",
    "          f\"Top1 Test accuracy: {top1_accuracy.item()}\\t\"\n",
    "          f\"Top5 test accuracy: {top5_accuracy.item()}\")"
   ],
   "metadata": {
    "collapsed": false,
    "ExecuteTime": {
     "end_time": "2023-11-26T16:21:13.704498390Z",
     "start_time": "2023-11-26T16:10:12.098311157Z"
    }
   },
   "id": "2c39b3e7e027aeb4"
  },
  {
   "cell_type": "code",
   "execution_count": 135,
   "outputs": [
    {
     "data": {
      "text/plain": "<Figure size 640x480 with 1 Axes>",
      "image/png": "[encoded data removed]"
     },
     "metadata": {},
     "output_type": "display_data"
    }
   ],
   "source": [
    "from s3ima.arch.SimCLR.helper_plotting import plot_confusion_matrix\n",
    "from s3ima.arch.SimCLR.helper_evaluation import compute_confusion_matrix\n",
    "\n",
    "class_dict = {0: '0',\n",
    "              1: '1',\n",
    "              2: '2',\n",
    "              3: '3',\n",
    "              4: '4',\n",
    "              5: '5',\n",
    "              6: '6',\n",
    "              7: '7',\n",
    "              8: '8',\n",
    "              9: '9'}\n",
    "\n",
    "mat = compute_confusion_matrix(model=model, data_loader=test_loader, device=torch.device('cpu'))\n",
    "plot_confusion_matrix(mat, class_names=class_dict.values(), results_dir='./figures')\n",
    "plt.show()"
   ],
   "metadata": {
    "collapsed": false,
    "ExecuteTime": {
     "end_time": "2023-11-26T16:42:25.711470021Z",
     "start_time": "2023-11-26T16:42:21.169905133Z"
    }
   },
   "id": "5cd329be03b12c4"
  },
  {
   "cell_type": "code",
   "execution_count": 120,
   "outputs": [],
   "source": [
    "# \n",
    "# from torch.utils.tensorboard import SummaryWriter\n",
    "# from s3ima.arch.SimCLR.helper_config import save_config_file, save_checkpoint\n",
    "# import logging\n",
    "# \n",
    "# def train_then_eval_model(model,\n",
    "#                           optimizer,\n",
    "#                           # scheduler,\n",
    "#                           train_loader,\n",
    "#                           valid_loader,\n",
    "#                           # test_loader,\n",
    "#                           args=None,\n",
    "#                           criterion=None):\n",
    "# \n",
    "#     writer = SummaryWriter(log_dir='eval_runs')\n",
    "#     # config logging file\n",
    "#     logging.basicConfig(filename=os.path.join(writer.log_dir, 'eval.log'),\n",
    "#                         level=logging.DEBUG)\n",
    "#     # save config file\n",
    "#     # save_config_file(writer.log_dir, args)\n",
    "#     \n",
    "#     epochs = 100\n",
    "#     \n",
    "#     loss_hist_train = [0] * epochs\n",
    "#     loss_hist_valid = [0] * epochs # args.train_epochs\n",
    "#     acc_hist_train = [0] * epochs\n",
    "#     acc_hist_valid = [0] * epochs # args.train_epochs\n",
    "#     \n",
    "#     # minibatch summary\n",
    "#     minibatch_hist_train_loss = []\n",
    "#     minibatch_hist_train_acc = []\n",
    "# \n",
    "#     global_step = 0\n",
    "# \n",
    "#     for epoch in range(epochs):\n",
    "#         model.train()\n",
    "# \n",
    "#         for x_batch, y_batch in train_loader:\n",
    "#             optimizer.zero_grad()\n",
    "# \n",
    "#             pred = model(x_batch)\n",
    "#             loss = criterion(pred, y_batch)\n",
    "#             loss.backward()\n",
    "#             optimizer.step()\n",
    "# \n",
    "#             \n",
    "#             is_correct = (torch.argmax(input=pred, dim=1) == y_batch).float()\n",
    "#             accuracy = (is_correct.sum())\n",
    "#             minibatch_acc = accuracy / y_batch.size(0)\n",
    "#             minibatch_loss = loss.item()\n",
    "# \n",
    "#             # minibatch summary\n",
    "#             minibatch_hist_train_loss.append(minibatch_loss)\n",
    "#             minibatch_hist_train_acc.append(minibatch_acc)\n",
    "#             \n",
    "#             # Enregistrement à chaque itération (minibatch)\n",
    "#             writer.add_scalar(tag='train/loss', scalar_value=minibatch_loss, global_step=global_step)\n",
    "#             writer.add_scalar(tag='train/acc', scalar_value=minibatch_acc, global_step=global_step)\n",
    "#             # writer.add_scalar(tag='learning_rate', scalar_value=scheduler.get_lr()[0], global_step=global_step)\n",
    "# \n",
    "#             global_step += 1  # Mettre à jour le compteur global\n",
    "#             \n",
    "#             # epochs summary\n",
    "#             loss_hist_train[epoch] += minibatch_loss * y_batch.size(0)\n",
    "#             acc_hist_train[epoch] += accuracy\n",
    "# \n",
    "#         # epochs summary\n",
    "#         loss_hist_train[epoch] /= len(train_loader.dataset)\n",
    "#         acc_hist_train[epoch] /= len(train_loader.dataset)\n",
    "#         \n",
    "#         # add writer for epochs for needs\n",
    "#         \n",
    "#         if valid_loader is not None:\n",
    "# \n",
    "#             # Évaluation à chaque époque\n",
    "#             model.eval()\n",
    "#             with torch.no_grad():\n",
    "#                 for x_batch, y_batch in valid_loader:\n",
    "#                     pred = model(x_batch)\n",
    "#                     loss = criterion(pred, y_batch)\n",
    "#                     loss_hist_valid[epoch] += loss.item() * y_batch.size(0)\n",
    "#                     is_correct = (torch.argmax(input=pred, dim=1) == y_batch).float()\n",
    "#                     acc_hist_valid[epoch] += is_correct.sum()\n",
    "#             loss_hist_valid[epoch] /= len(valid_loader.dataset)\n",
    "#             acc_hist_valid[epoch] /= len(valid_loader.dataset)\n",
    "# \n",
    "#             writer.add_scalar(tag='valid/loss', scalar_value=loss_hist_valid[epoch], global_step=global_step)\n",
    "#             writer.add_scalar(tag='valid/acc', scalar_value=acc_hist_valid[epoch], global_step=global_step)\n",
    "# \n",
    "#             print(f'Epoch {epoch +1} '\n",
    "#                   f'val_loss: {loss_hist_valid[epoch]: .4f} '\n",
    "#                   f'val_acc: {acc_hist_valid[epoch]: .4f} '\n",
    "#                   f'val_num_test_data: {len(test_loader.dataset)} '\n",
    "#                   f'val_num_train_data: {len(train_loader.dataset)} ')\n",
    "# \n",
    "#     logging.info(\"Training has finished.\")\n",
    "#     # save model checkpoints\n",
    "#     # checkpoint_name = f'{args.arch}_finetune_{epochs:04d}.pth.tar'\n",
    "#     #save_checkpoint(state={'epoch': epochs,\n",
    "#     #                       'arch': args.arch,\n",
    "#     #                       'state_dict': model.state_dict(),\n",
    "#     #                       'optimizer': optimizer.state_dict(),\n",
    "#     #                       },\n",
    "#     #                is_best=False,\n",
    "#     #                filename=os.path.join(writer.log_dir, checkpoint_name))\n",
    "#     #logging.info(f\"Model checkpoint and metadata has been saved at {writer.log_dir}.\")"
   ],
   "metadata": {
    "collapsed": false,
    "ExecuteTime": {
     "end_time": "2023-11-26T16:09:57.388950142Z",
     "start_time": "2023-11-26T16:09:57.382681151Z"
    }
   },
   "id": "7cc8954a618344d2"
  },
  {
   "cell_type": "code",
   "execution_count": 119,
   "outputs": [],
   "source": [
    "# train_then_eval_model(model=model,optimizer=optimizer,train_loader=train_loader,valid_loader=test_loader,criterion=criterion)"
   ],
   "metadata": {
    "collapsed": false,
    "ExecuteTime": {
     "end_time": "2023-11-26T16:09:51.886806759Z",
     "start_time": "2023-11-26T16:09:51.843214493Z"
    }
   },
   "id": "fe72a704b1f631a6"
  },
  {
   "cell_type": "code",
   "execution_count": null,
   "outputs": [],
   "source": [],
   "metadata": {
    "collapsed": false
   },
   "id": "24e1235cc7597cee"
  }
 ],
 "metadata": {
  "kernelspec": {
   "display_name": "Python 3",
   "language": "python",
   "name": "python3"
  },
  "language_info": {
   "codemirror_mode": {
    "name": "ipython",
    "version": 2
   },
   "file_extension": ".py",
   "mimetype": "text/x-python",
   "name": "python",
   "nbconvert_exporter": "python",
   "pygments_lexer": "ipython2",
   "version": "2.7.6"
  }
 },
 "nbformat": 4,
 "nbformat_minor": 5
}
